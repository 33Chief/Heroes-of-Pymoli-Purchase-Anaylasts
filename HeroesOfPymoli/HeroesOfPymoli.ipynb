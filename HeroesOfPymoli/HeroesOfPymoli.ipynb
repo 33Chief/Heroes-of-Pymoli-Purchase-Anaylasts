According to the Data we can conlcude that between the ages 20-24 had the highest Total purchase value along with having the highest percentage of players. We also notice that our top two of or top Most profitable & popular items are 
'Oathbreaker, Last Hope of the Breaking Storm' & "Fiery Glass Crusader'.






{
 "cells": [
  {
   "cell_type": "markdown",
   "metadata": {},
   "source": [
    "### Note\n",
    "* Instructions have been included for each segment. You do not have to follow them exactly, but they are included to help you think through the steps."
   ]
  },
  {
   "cell_type": "code",
   "execution_count": null,
   "metadata": {},
   "outputs": [],
   "source": [
    "# Dependencies and Setup\n",
    "import pandas as pd\n",
    "\n",
    "# File to Load (Remember to Change These)\n",
    "file_to_load = \"Resources/purchase_data.csv\"\n",
    "\n",
    "# Read Purchasing File and store into Pandas data frame\n",
    "purchase_data = pd.read_csv(file_to_load)\n",
    "purchase_data.head()"
   ]
  },
  {
   "cell_type": "markdown",
   "metadata": {},
   "source": [
    "## Player Count"
   ]
  },
  {
   "cell_type": "markdown",
   "metadata": {},
   "source": [
    "* Display the total number of players\n"
   ]
  },
  {
   "cell_type": "code",
   "execution_count": null,
   "metadata": {},
   "outputs": [],
   "source": [
    "#Total Number of Players\n",
    "total_players = purchase_data ['SN'].nunique()\n",
    "\n",
    "total_players_df = pd.DataFrame({'Total Players': [total_players]})\n",
    "\n",
    "total_players_df\n"
   ]
  },
  {
   "cell_type": "markdown",
   "metadata": {},
   "source": [
    "## Purchasing Analysis (Total)"
   ]
  },
  {
   "cell_type": "markdown",
   "metadata": {},
   "source": [
    "* Run basic calculations to obtain number of unique items, average price, etc.\n",
    "\n",
    "\n",
    "* Create a summary data frame to hold the results\n",
    "\n",
    "\n",
    "* Optional: give the displayed data cleaner formatting\n",
    "\n",
    "\n",
    "* Display the summary data frame\n"
   ]
  },
  {
   "cell_type": "code",
   "execution_count": null,
   "metadata": {
    "scrolled": true
   },
   "outputs": [],
   "source": [
    "#Number of Unique Items\n",
    "unique_items = len(purchase_data['Item Name'].unique())\n",
    "\n",
    "\n",
    "#Average Purchase Price\n",
    "average_price = purchase_data ['Price'].mean()\n",
    "\n",
    "\n",
    "#Total Number of Purchases\n",
    "num_purchases = purchase_data ['Purchase ID'].count()\n",
    "\n",
    "\n",
    "#Total Revenue\n",
    "revenue = purchase_data ['Price'].sum()\n",
    "\n",
    "\n",
    "\n",
    "#Summary Table\n",
    "summary_table = pd.DataFrame({'Number of Unique Items': [unique_items],\n",
    "                              'Average Price': ['${:,.2f}'.format(average_price)],\n",
    "                              'Number of Purchases': [num_purchases],\n",
    "                              'Total Revenue': ['${:,.2f}'.format(revenue)]})\n",
    "summary_table"
   ]
  },
  {
   "cell_type": "markdown",
   "metadata": {},
   "source": [
    "## Gender Demographics"
   ]
  },
  {
   "cell_type": "markdown",
   "metadata": {},
   "source": [
    "* Percentage and Count of Male Players\n",
    "\n",
    "\n",
    "* Percentage and Count of Female Players\n",
    "\n",
    "\n",
    "* Percentage and Count of Other / Non-Disclosed\n",
    "\n",
    "\n"
   ]
  },
  {
   "cell_type": "code",
   "execution_count": null,
   "metadata": {},
   "outputs": [],
   "source": [
    "#Unique\n",
    "\n",
    "total_players = len(purchase_data[\"SN\"].unique())\n",
    "\n",
    "#Groupby\n",
    "\n",
    "group_players =purchase_data.groupby('Gender')['SN'].nunique()\n",
    "\n",
    "#Total Count\n",
    "\n",
    "purchase_data_ = group_players.to_frame('Total Count')\n",
    "\n",
    "#Percentage of Players\n",
    "\n",
    "purchase_data_ ['Percentage of Players'] = round(purchase_data_/total_players*100,2)\n",
    "purchase_data_"
   ]
  },
  {
   "cell_type": "markdown",
   "metadata": {},
   "source": [
    "\n",
    "## Purchasing Analysis (Gender)"
   ]
  },
  {
   "cell_type": "markdown",
   "metadata": {},
   "source": [
    "* Run basic calculations to obtain purchase count, avg. purchase price, avg. purchase total per person etc. by gender\n",
    "\n",
    "\n",
    "\n",
    "\n",
    "* Create a summary data frame to hold the results\n",
    "\n",
    "\n",
    "* Optional: give the displayed data cleaner formatting\n",
    "\n",
    "\n",
    "* Display the summary data frame"
   ]
  },
  {
   "cell_type": "code",
   "execution_count": null,
   "metadata": {},
   "outputs": [],
   "source": [
    "#Total Purchase Count\n",
    "\n",
    "count = purchase_data.groupby('Gender')['Item ID'].count()\n",
    "\n",
    "#Purchase per Total\n",
    "\n",
    "value = purchase_data.groupby('Gender')['Price'].sum()\n",
    "df = count.to_frame('Purchase Count')\n",
    "\n",
    "#Average\n",
    "\n",
    "df[\"Average Purchase Price\"] = (value/count).map(\"${:.2f}\".format)\n",
    "\n",
    "#Total Purchase Value\n",
    "\n",
    "df[\"Total Purchase Value\"] = value.map(\"${:.2f}\".format)\n",
    "\n",
    "#Average Total Purchase\n",
    "\n",
    "df[\"Avg Total Purchase per Person\"] = (value/group_players).map(\"${:.2f}\".format)\n",
    "df"
   ]
  },
  {
   "cell_type": "markdown",
   "metadata": {},
   "source": [
    "## Age Demographics"
   ]
  },
  {
   "cell_type": "markdown",
   "metadata": {},
   "source": [
    "* Establish bins for ages\n",
    "\n",
    "\n",
    "* Categorize the existing players using the age bins. Hint: use pd.cut()\n",
    "\n",
    "\n",
    "* Calculate the numbers and percentages by age group\n",
    "\n",
    "\n",
    "* Create a summary data frame to hold the results\n",
    "\n",
    "\n",
    "* Optional: round the percentage column to two decimal points\n",
    "\n",
    "\n",
    "* Display Age Demographics Table\n"
   ]
  },
  {
   "cell_type": "code",
   "execution_count": null,
   "metadata": {},
   "outputs": [],
   "source": [
    "#Bins for Ages\n",
    "bins = [0,9, 14, 19, 24, 29, 34, 39,100]\n",
    "\n",
    "Ages = [\"<10\", \"10-14\", \"15-19\", \"20-24\", \"25-29\",\"30-34\",\"35-39\",\"40+\"]\n",
    "\n",
    "#Categorize\n",
    "purchase_data['Age Group'] = pd.cut(purchase_data[\"Age\"], bins, labels=Ages)\n",
    "\n",
    "players_count = purchase_data.groupby('Age Group')['SN'].nunique()\n",
    "\n",
    "pp_df = players_count.to_frame('Total Count').sort_index()\n",
    "\n",
    "pp_df"
   ]
  },
  {
   "cell_type": "markdown",
   "metadata": {},
   "source": [
    "## Purchasing Analysis (Age)"
   ]
  },
  {
   "cell_type": "markdown",
   "metadata": {},
   "source": [
    "* Bin the purchase_data data frame by age\n",
    "\n",
    "\n",
    "* Run basic calculations to obtain purchase count, avg. purchase price, avg. purchase total per person etc. in the table below\n",
    "\n",
    "\n",
    "* Create a summary data frame to hold the results\n",
    "\n",
    "\n",
    "* Optional: give the displayed data cleaner formatting\n",
    "\n",
    "\n",
    "* Display the summary data frame"
   ]
  },
  {
   "cell_type": "markdown",
   "metadata": {},
   "source": [
    "## Top Spenders"
   ]
  },
  {
   "cell_type": "markdown",
   "metadata": {},
   "source": [
    "* Run basic calculations to obtain the results in the table below\n",
    "\n",
    "\n",
    "* Create a summary data frame to hold the results\n",
    "\n",
    "\n",
    "* Sort the total purchase value column in descending order\n",
    "\n",
    "\n",
    "* Optional: give the displayed data cleaner formatting\n",
    "\n",
    "\n",
    "* Display a preview of the summary data frame\n",
    "\n"
   ]
  },
  {
   "cell_type": "code",
   "execution_count": null,
   "metadata": {},
   "outputs": [],
   "source": [
    "#Table\n",
    "purchase_count=purchase_data.groupby('SN')['Purchase ID'].nunique()\n",
    "\n",
    "top_spenders_df = purchase_count.to_frame('Purchase Count')\n",
    "\n",
    "\n",
    "total_spenders_purchase_value = purchase_data.groupby('SN')['Price'].sum()\n",
    "\n",
    "top_spenders_df['Average Purchase Price'] = (total_spenders_purchase_value/top_spenders_df['Purchase Count']).map(\"${:.2f}\".format)\n",
    "\n",
    "top_spenders_df['Total Purchase Value'] = total_spenders_purchase_value\n",
    "\n",
    "\n",
    "\n",
    "#Sort Descending Order\n",
    "top_spenders_df = top_spenders_df.sort_values(by='Total Purchase Value', ascending=False)\n",
    "\n",
    "top_spenders_df['Total Purchase Value'] = top_spenders_df['Total Purchase Value'].map(\"${:.2f}\".format)\n",
    "\n",
    "top_spenders_df.head()"
   ]
  },
  {
   "cell_type": "markdown",
   "metadata": {},
   "source": [
    "## Most Popular Items"
   ]
  },
  {
   "cell_type": "markdown",
   "metadata": {},
   "source": [
    "* Retrieve the Item ID, Item Name, and Item Price columns\n",
    "\n",
    "\n",
    "* Group by Item ID and Item Name. Perform calculations to obtain purchase count, average item price, and total purchase value\n",
    "\n",
    "\n",
    "* Create a summary data frame to hold the results\n",
    "\n",
    "\n",
    "* Sort the purchase count column in descending order\n",
    "\n",
    "\n",
    "* Optional: give the displayed data cleaner formatting\n",
    "\n",
    "\n",
    "* Display a preview of the summary data frame\n",
    "\n"
   ]
  },
  {
   "cell_type": "code",
   "execution_count": null,
   "metadata": {},
   "outputs": [],
   "source": [
    "#Most_Popular\n",
    "most_popular_items = purchase_data.filter(['Item ID', 'Item Name','Price'], axis=1)\n",
    "\n",
    "#GroupBy\n",
    "\n",
    "item_price = most_popular_items.groupby(['Item ID','Item Name'])['Price'].mean()\n",
    "\n",
    "purchase_count = most_popular_items.groupby('Item ID')['Item Name'].value_counts()\n",
    "\n",
    "purchase_value = item_price * purchase_count\n",
    "\n",
    "#Summary\n",
    "most_popular_df = purchase_count.to_frame('Purchase Count')\n",
    "\n",
    "most_popular_df['Item Price'] = item_price.map(\"${:.2f}\".format)\n",
    "\n",
    "most_popular_df['Total Purchase Value'] = purchase_value\n",
    "\n",
    "#Sort\n",
    "most_pop_df = most_popular_df.sort_values(by=\"Purchase Count\", ascending=False)\n",
    "\n",
    "most_pop_df['Total Purchase Value'] = most_pop_df['Total Purchase Value'].map(\"${:.2f}\".format)\n",
    "\n",
    "most_pop_df.head() "
   ]
  },
  {
   "cell_type": "markdown",
   "metadata": {},
   "source": [
    "## Most Profitable Items"
   ]
  },
  {
   "cell_type": "markdown",
   "metadata": {},
   "source": [
    "* Sort the above table by total purchase value in descending order\n",
    "\n",
    "\n",
    "* Optional: give the displayed data cleaner formatting\n",
    "\n",
    "\n",
    "* Display a preview of the data frame\n",
    "\n"
   ]
  }
 ],
 "metadata": {
  "anaconda-cloud": {},
  "kernel_info": {
   "name": "python3"
  },
  "kernelspec": {
   "display_name": "Python 3",
   "language": "python",
   "name": "python3"
  },
  "language_info": {
   "codemirror_mode": {
    "name": "ipython",
    "version": 3
   },
   "file_extension": ".py",
   "mimetype": "text/x-python",
   "name": "python",
   "nbconvert_exporter": "python",
   "pygments_lexer": "ipython3",
   "version": "3.8.5"
  },
  "latex_envs": {
   "LaTeX_envs_menu_present": true,
   "autoclose": false,
   "autocomplete": true,
   "bibliofile": "biblio.bib",
   "cite_by": "apalike",
   "current_citInitial": 1,
   "eqLabelWithNumbers": true,
   "eqNumInitial": 1,
   "hotkeys": {
    "equation": "Ctrl-E",
    "itemize": "Ctrl-I"
   },
   "labels_anchors": false,
   "latex_user_defs": false,
   "report_style_numbering": false,
   "user_envs_cfg": false
  },
  "nteract": {
   "version": "0.2.0"
  }
 },
 "nbformat": 4,
 "nbformat_minor": 2
}
